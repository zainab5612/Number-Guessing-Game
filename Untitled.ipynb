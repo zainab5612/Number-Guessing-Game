{
 "cells": [
  {
   "cell_type": "code",
   "execution_count": 10,
   "id": "5608e52d-3e93-4ce3-b7fb-afbee0703733",
   "metadata": {},
   "outputs": [
    {
     "name": "stdin",
     "output_type": "stream",
     "text": [
      "Guess a number from 1-100 (q to quit) 33\n"
     ]
    },
    {
     "name": "stdout",
     "output_type": "stream",
     "text": [
      "your guess is too low, try again\n"
     ]
    },
    {
     "name": "stdin",
     "output_type": "stream",
     "text": [
      "Guess a number from 1-100 (q to quit) 66\n"
     ]
    },
    {
     "name": "stdout",
     "output_type": "stream",
     "text": [
      "your guess is too low, try again\n"
     ]
    },
    {
     "name": "stdin",
     "output_type": "stream",
     "text": [
      "Guess a number from 1-100 (q to quit) 100\n"
     ]
    },
    {
     "name": "stdout",
     "output_type": "stream",
     "text": [
      "Your guess is to high, try again\n"
     ]
    },
    {
     "name": "stdin",
     "output_type": "stream",
     "text": [
      "Guess a number from 1-100 (q to quit) 77\n"
     ]
    },
    {
     "name": "stdout",
     "output_type": "stream",
     "text": [
      "Your guess is to high, try again\n"
     ]
    },
    {
     "name": "stdin",
     "output_type": "stream",
     "text": [
      "Guess a number from 1-100 (q to quit) 69\n"
     ]
    },
    {
     "name": "stdout",
     "output_type": "stream",
     "text": [
      "Your guess is to high, try again\n"
     ]
    },
    {
     "name": "stdin",
     "output_type": "stream",
     "text": [
      "Guess a number from 1-100 (q to quit) 61\n"
     ]
    },
    {
     "name": "stdout",
     "output_type": "stream",
     "text": [
      "your guess is too low, try again\n"
     ]
    },
    {
     "name": "stdin",
     "output_type": "stream",
     "text": [
      "Guess a number from 1-100 (q to quit) 62\n"
     ]
    },
    {
     "name": "stdout",
     "output_type": "stream",
     "text": [
      "your guess is too low, try again\n"
     ]
    },
    {
     "name": "stdin",
     "output_type": "stream",
     "text": [
      "Guess a number from 1-100 (q to quit) 65\n"
     ]
    },
    {
     "name": "stdout",
     "output_type": "stream",
     "text": [
      "your guess is too low, try again\n"
     ]
    },
    {
     "name": "stdin",
     "output_type": "stream",
     "text": [
      "Guess a number from 1-100 (q to quit) 6\n"
     ]
    },
    {
     "name": "stdout",
     "output_type": "stream",
     "text": [
      "your guess is too low, try again\n"
     ]
    },
    {
     "name": "stdin",
     "output_type": "stream",
     "text": [
      "Guess a number from 1-100 (q to quit) 66\n"
     ]
    },
    {
     "name": "stdout",
     "output_type": "stream",
     "text": [
      "your guess is too low, try again\n"
     ]
    },
    {
     "name": "stdin",
     "output_type": "stream",
     "text": [
      "Guess a number from 1-100 (q to quit) 67\n"
     ]
    },
    {
     "name": "stdout",
     "output_type": "stream",
     "text": [
      "Correct!\n",
      "-----TRACKER-----\n",
      "your guesses were: [33, 66, 100, 77, 69, 61, 62, 65, 6, 66, 67]\n"
     ]
    }
   ],
   "source": [
    "import random\n",
    "nums = random.randint(1, 100)\n",
    "attempts = 0\n",
    "guesses = []\n",
    "\n",
    "while True:\n",
    "    user = input(\"Guess a number from 1-100 (q to quit)\")\n",
    "    if user.lower() == \"q\":\n",
    "        break\n",
    "    else:\n",
    "        guess = int(user)\n",
    "    \n",
    "    guesses.append(guess)\n",
    "    attempts += 1\n",
    "    \n",
    "    if guess > nums:\n",
    "        print(\"Your guess is to high, try again\")\n",
    "    elif guess < nums:\n",
    "        print(\"your guess is too low, try again\")\n",
    "    else:\n",
    "        print(\"Correct!\")\n",
    "        break\n",
    "print(\"-----TRACKER-----\")\n",
    "print(\"your guesses were:\", guesses)\n"
   ]
  },
  {
   "cell_type": "code",
   "execution_count": null,
   "id": "5997305f-621a-464a-a6c6-b6528769a85e",
   "metadata": {},
   "outputs": [],
   "source": []
  }
 ],
 "metadata": {
  "kernelspec": {
   "display_name": "Python 3 (ipykernel)",
   "language": "python",
   "name": "python3"
  },
  "language_info": {
   "codemirror_mode": {
    "name": "ipython",
    "version": 3
   },
   "file_extension": ".py",
   "mimetype": "text/x-python",
   "name": "python",
   "nbconvert_exporter": "python",
   "pygments_lexer": "ipython3",
   "version": "3.13.5"
  }
 },
 "nbformat": 4,
 "nbformat_minor": 5
}
